{
 "cells": [
  {
   "cell_type": "code",
   "execution_count": 1,
   "id": "09234c9c",
   "metadata": {},
   "outputs": [
    {
     "name": "stdout",
     "output_type": "stream",
     "text": [
      "Hi! I am Ananya Mohapatra. Nice to meet you :)\n"
     ]
    }
   ],
   "source": [
    "print(\"Hi! I am Ananya Mohapatra. Nice to meet you :)\")"
   ]
  },
  {
   "cell_type": "code",
   "execution_count": null,
   "id": "a0dc7d1a",
   "metadata": {},
   "outputs": [],
   "source": []
  }
 ],
 "metadata": {
  "kernelspec": {
   "display_name": "base",
   "language": "python",
   "name": "python3"
  },
  "language_info": {
   "codemirror_mode": {
    "name": "ipython",
    "version": 3
   },
   "file_extension": ".py",
   "mimetype": "text/x-python",
   "name": "python",
   "nbconvert_exporter": "python",
   "pygments_lexer": "ipython3",
   "version": "3.11.4"
  }
 },
 "nbformat": 4,
 "nbformat_minor": 5
}
